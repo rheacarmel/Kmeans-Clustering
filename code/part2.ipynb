{
  "nbformat": 4,
  "nbformat_minor": 0,
  "metadata": {
    "colab": {
      "name": "kmeans part2.ipynb",
      "provenance": [],
      "collapsed_sections": []
    },
    "kernelspec": {
      "name": "python3",
      "display_name": "Python 3"
    }
  },
  "cells": [
    {
      "cell_type": "markdown",
      "metadata": {
        "id": "dU_8BmuQrV5U",
        "colab_type": "text"
      },
      "source": [
        "**Kmeans using Autoencoder**"
      ]
    },
    {
      "cell_type": "code",
      "metadata": {
        "id": "ZbvO3LQqrTrJ",
        "colab_type": "code",
        "colab": {}
      },
      "source": [
        "!pip install -q tensorflow\n",
        "\n",
        "from IPython.display import Image,SVG\n",
        "import matplotlib.pyplot as plt\n",
        "\n",
        "\n",
        "%matplotlib inline\n",
        "\n",
        "import numpy as np \n",
        "import keras\n",
        "from keras.datasets import mnist\n",
        "from keras.models import Model,Sequential\n",
        "from keras.layers  import Input,Dense,Conv2D,MaxPool2D,UpSampling2D,Flatten,Reshape,Dropout\n",
        "from keras import regularizers\n",
        "from keras.layers.normalization import BatchNormalization\n",
        "\n",
        "from keras import backend as K\n",
        "from sklearn.cluster import KMeans"
      ],
      "execution_count": 0,
      "outputs": []
    },
    {
      "cell_type": "code",
      "metadata": {
        "id": "ZrtlVpIg1qdc",
        "colab_type": "code",
        "colab": {
          "base_uri": "https://localhost:8080/",
          "height": 158
        },
        "outputId": "21437d88-d1cf-4128-875b-7a256541570a"
      },
      "source": [
        "fashion_mnist = keras.datasets.fashion_mnist(train_images, train_labels), (test_images, test_labels) = fashion_mnist.load_data()  #load data      "
      ],
      "execution_count": 3,
      "outputs": [
        {
          "output_type": "stream",
          "text": [
            "Downloading data from http://fashion-mnist.s3-website.eu-central-1.amazonaws.com/train-labels-idx1-ubyte.gz\n",
            "32768/29515 [=================================] - 0s 3us/step\n",
            "Downloading data from http://fashion-mnist.s3-website.eu-central-1.amazonaws.com/train-images-idx3-ubyte.gz\n",
            "26427392/26421880 [==============================] - 2s 0us/step\n",
            "Downloading data from http://fashion-mnist.s3-website.eu-central-1.amazonaws.com/t10k-labels-idx1-ubyte.gz\n",
            "8192/5148 [===============================================] - 0s 0us/step\n",
            "Downloading data from http://fashion-mnist.s3-website.eu-central-1.amazonaws.com/t10k-images-idx3-ubyte.gz\n",
            "4423680/4422102 [==============================] - 1s 0us/step\n"
          ],
          "name": "stdout"
        }
      ]
    },
    {
      "cell_type": "code",
      "metadata": {
        "id": "2JumBLwM17qV",
        "colab_type": "code",
        "colab": {}
      },
      "source": [
        "train_images=train_images/255.0\n",
        "test_images=test_images/255.0                                   #normalize data"
      ],
      "execution_count": 0,
      "outputs": []
    },
    {
      "cell_type": "code",
      "metadata": {
        "id": "lF8sOepZ2BBx",
        "colab_type": "code",
        "colab": {}
      },
      "source": [
        "train_image=train_images.reshape((60000,28,28,1))\n",
        "test_image=test_images.reshape((10000,28,28,1))                 #reshape data"
      ],
      "execution_count": 0,
      "outputs": []
    },
    {
      "cell_type": "code",
      "metadata": {
        "id": "JE6tEg6_2C1K",
        "colab_type": "code",
        "colab": {
          "base_uri": "https://localhost:8080/",
          "height": 706
        },
        "outputId": "b6a39089-5f80-4824-9463-92f08608489a"
      },
      "source": [
        "#encoder\n",
        "\n",
        "model = Sequential()\n",
        "model.add(Conv2D(14, kernel_size=3, padding='same', activation='sigmoid', input_shape=(28,28,1)))\n",
        "model.add(MaxPool2D((2,2), padding='same'))\n",
        "\n",
        "model.add(Conv2D(7, kernel_size=3, padding='same', activation='sigmoid'))\n",
        "model.add(MaxPool2D((2,2), padding='same'))\n",
        "\n",
        "#decoder\n",
        "model.add(Conv2D(7, kernel_size=3, padding='same', activation='sigmoid'))\n",
        "model.add(UpSampling2D((2,2)))\n",
        "\n",
        "model.add(Conv2D(14, kernel_size=3, padding='same', activation='sigmoid'))\n",
        "model.add(UpSampling2D((2,2)))\n",
        "\n",
        "model.add(Conv2D(1, kernel_size=3, padding='same', activation='sigmoid'))\n",
        "\n",
        "model.compile(optimizer='adam', loss=\"mse\")\n",
        "model.summary()\n",
        "\n"
      ],
      "execution_count": 6,
      "outputs": [
        {
          "output_type": "stream",
          "text": [
            "WARNING:tensorflow:From /usr/local/lib/python3.6/dist-packages/keras/backend/tensorflow_backend.py:66: The name tf.get_default_graph is deprecated. Please use tf.compat.v1.get_default_graph instead.\n",
            "\n",
            "WARNING:tensorflow:From /usr/local/lib/python3.6/dist-packages/keras/backend/tensorflow_backend.py:541: The name tf.placeholder is deprecated. Please use tf.compat.v1.placeholder instead.\n",
            "\n",
            "WARNING:tensorflow:From /usr/local/lib/python3.6/dist-packages/keras/backend/tensorflow_backend.py:4432: The name tf.random_uniform is deprecated. Please use tf.random.uniform instead.\n",
            "\n",
            "WARNING:tensorflow:From /usr/local/lib/python3.6/dist-packages/keras/backend/tensorflow_backend.py:4267: The name tf.nn.max_pool is deprecated. Please use tf.nn.max_pool2d instead.\n",
            "\n",
            "WARNING:tensorflow:From /usr/local/lib/python3.6/dist-packages/keras/backend/tensorflow_backend.py:2239: The name tf.image.resize_nearest_neighbor is deprecated. Please use tf.compat.v1.image.resize_nearest_neighbor instead.\n",
            "\n",
            "WARNING:tensorflow:From /usr/local/lib/python3.6/dist-packages/keras/optimizers.py:793: The name tf.train.Optimizer is deprecated. Please use tf.compat.v1.train.Optimizer instead.\n",
            "\n",
            "Model: \"sequential_1\"\n",
            "_________________________________________________________________\n",
            "Layer (type)                 Output Shape              Param #   \n",
            "=================================================================\n",
            "conv2d_1 (Conv2D)            (None, 28, 28, 14)        140       \n",
            "_________________________________________________________________\n",
            "max_pooling2d_1 (MaxPooling2 (None, 14, 14, 14)        0         \n",
            "_________________________________________________________________\n",
            "conv2d_2 (Conv2D)            (None, 14, 14, 7)         889       \n",
            "_________________________________________________________________\n",
            "max_pooling2d_2 (MaxPooling2 (None, 7, 7, 7)           0         \n",
            "_________________________________________________________________\n",
            "conv2d_3 (Conv2D)            (None, 7, 7, 7)           448       \n",
            "_________________________________________________________________\n",
            "up_sampling2d_1 (UpSampling2 (None, 14, 14, 7)         0         \n",
            "_________________________________________________________________\n",
            "conv2d_4 (Conv2D)            (None, 14, 14, 14)        896       \n",
            "_________________________________________________________________\n",
            "up_sampling2d_2 (UpSampling2 (None, 28, 28, 14)        0         \n",
            "_________________________________________________________________\n",
            "conv2d_5 (Conv2D)            (None, 28, 28, 1)         127       \n",
            "=================================================================\n",
            "Total params: 2,500\n",
            "Trainable params: 2,500\n",
            "Non-trainable params: 0\n",
            "_________________________________________________________________\n"
          ],
          "name": "stdout"
        }
      ]
    },
    {
      "cell_type": "code",
      "metadata": {
        "id": "AWsLKr877GWf",
        "colab_type": "code",
        "colab": {
          "base_uri": "https://localhost:8080/",
          "height": 1000
        },
        "outputId": "3fef64e3-3bf4-4f21-f6ac-4541587970b1"
      },
      "source": [
        " model1=model.fit(train_image,train_image,epochs=20,batch_size=64,shuffle=True,validation_data=(test_image,test_image))     #fit the model\n"
      ],
      "execution_count": 7,
      "outputs": [
        {
          "output_type": "stream",
          "text": [
            "WARNING:tensorflow:From /usr/local/lib/python3.6/dist-packages/keras/backend/tensorflow_backend.py:1033: The name tf.assign_add is deprecated. Please use tf.compat.v1.assign_add instead.\n",
            "\n",
            "WARNING:tensorflow:From /usr/local/lib/python3.6/dist-packages/keras/backend/tensorflow_backend.py:1020: The name tf.assign is deprecated. Please use tf.compat.v1.assign instead.\n",
            "\n",
            "WARNING:tensorflow:From /usr/local/lib/python3.6/dist-packages/keras/backend/tensorflow_backend.py:3005: The name tf.Session is deprecated. Please use tf.compat.v1.Session instead.\n",
            "\n",
            "Train on 60000 samples, validate on 10000 samples\n",
            "Epoch 1/20\n",
            "WARNING:tensorflow:From /usr/local/lib/python3.6/dist-packages/keras/backend/tensorflow_backend.py:190: The name tf.get_default_session is deprecated. Please use tf.compat.v1.get_default_session instead.\n",
            "\n",
            "WARNING:tensorflow:From /usr/local/lib/python3.6/dist-packages/keras/backend/tensorflow_backend.py:197: The name tf.ConfigProto is deprecated. Please use tf.compat.v1.ConfigProto instead.\n",
            "\n",
            "WARNING:tensorflow:From /usr/local/lib/python3.6/dist-packages/keras/backend/tensorflow_backend.py:207: The name tf.global_variables is deprecated. Please use tf.compat.v1.global_variables instead.\n",
            "\n",
            "WARNING:tensorflow:From /usr/local/lib/python3.6/dist-packages/keras/backend/tensorflow_backend.py:216: The name tf.is_variable_initialized is deprecated. Please use tf.compat.v1.is_variable_initialized instead.\n",
            "\n",
            "WARNING:tensorflow:From /usr/local/lib/python3.6/dist-packages/keras/backend/tensorflow_backend.py:223: The name tf.variables_initializer is deprecated. Please use tf.compat.v1.variables_initializer instead.\n",
            "\n",
            "60000/60000 [==============================] - 88s 1ms/step - loss: 0.0454 - val_loss: 0.0208\n",
            "Epoch 2/20\n",
            "60000/60000 [==============================] - 88s 1ms/step - loss: 0.0189 - val_loss: 0.0173\n",
            "Epoch 3/20\n",
            "60000/60000 [==============================] - 88s 1ms/step - loss: 0.0159 - val_loss: 0.0149\n",
            "Epoch 4/20\n",
            "60000/60000 [==============================] - 90s 1ms/step - loss: 0.0141 - val_loss: 0.0136\n",
            "Epoch 5/20\n",
            "60000/60000 [==============================] - 88s 1ms/step - loss: 0.0130 - val_loss: 0.0126\n",
            "Epoch 6/20\n",
            "60000/60000 [==============================] - 90s 1ms/step - loss: 0.0122 - val_loss: 0.0119\n",
            "Epoch 7/20\n",
            "60000/60000 [==============================] - 89s 1ms/step - loss: 0.0116 - val_loss: 0.0114\n",
            "Epoch 8/20\n",
            "60000/60000 [==============================] - 90s 1ms/step - loss: 0.0111 - val_loss: 0.0109\n",
            "Epoch 9/20\n",
            "60000/60000 [==============================] - 89s 1ms/step - loss: 0.0106 - val_loss: 0.0105\n",
            "Epoch 10/20\n",
            "60000/60000 [==============================] - 89s 1ms/step - loss: 0.0103 - val_loss: 0.0102\n",
            "Epoch 11/20\n",
            "60000/60000 [==============================] - 88s 1ms/step - loss: 0.0100 - val_loss: 0.0099\n",
            "Epoch 12/20\n",
            "60000/60000 [==============================] - 90s 2ms/step - loss: 0.0098 - val_loss: 0.0098\n",
            "Epoch 13/20\n",
            "60000/60000 [==============================] - 89s 1ms/step - loss: 0.0096 - val_loss: 0.0096\n",
            "Epoch 14/20\n",
            "60000/60000 [==============================] - 89s 1ms/step - loss: 0.0094 - val_loss: 0.0095\n",
            "Epoch 15/20\n",
            "60000/60000 [==============================] - 89s 1ms/step - loss: 0.0093 - val_loss: 0.0094\n",
            "Epoch 16/20\n",
            "60000/60000 [==============================] - 87s 1ms/step - loss: 0.0092 - val_loss: 0.0092\n",
            "Epoch 17/20\n",
            "60000/60000 [==============================] - 88s 1ms/step - loss: 0.0091 - val_loss: 0.0092\n",
            "Epoch 18/20\n",
            "60000/60000 [==============================] - 87s 1ms/step - loss: 0.0090 - val_loss: 0.0091\n",
            "Epoch 19/20\n",
            "60000/60000 [==============================] - 87s 1ms/step - loss: 0.0090 - val_loss: 0.0090\n",
            "Epoch 20/20\n",
            "60000/60000 [==============================] - 87s 1ms/step - loss: 0.0089 - val_loss: 0.0089\n"
          ],
          "name": "stdout"
        }
      ]
    },
    {
      "cell_type": "code",
      "metadata": {
        "id": "8AeX4Gzt87a2",
        "colab_type": "code",
        "colab": {}
      },
      "source": [
        "restored_testing_dataset=model.predict(test_image)     #predict test case"
      ],
      "execution_count": 0,
      "outputs": []
    },
    {
      "cell_type": "code",
      "metadata": {
        "id": "rR6ukdtIEqDn",
        "colab_type": "code",
        "colab": {}
      },
      "source": [
        "encoder = K.function([model.layers[0].input], [model.layers[4].output])    "
      ],
      "execution_count": 0,
      "outputs": []
    },
    {
      "cell_type": "code",
      "metadata": {
        "id": "1R_dgPZyN82g",
        "colab_type": "code",
        "colab": {}
      },
      "source": [
        "encoded_images=encoder([test_image])[0].reshape(-1,7*7*7)"
      ],
      "execution_count": 0,
      "outputs": []
    },
    {
      "cell_type": "code",
      "metadata": {
        "id": "CjCXrR9fOWPV",
        "colab_type": "code",
        "colab": {}
      },
      "source": [
        "kmeans=KMeans(n_clusters=10)\n",
        "clustered_training_set=kmeans.fit_predict(encoded_images)"
      ],
      "execution_count": 0,
      "outputs": []
    },
    {
      "cell_type": "code",
      "metadata": {
        "id": "FB3XQKB7Olko",
        "colab_type": "code",
        "colab": {
          "base_uri": "https://localhost:8080/",
          "height": 648
        },
        "outputId": "9b54219a-f67f-45e3-caa2-f2962319ab71"
      },
      "source": [
        "#confusion matrix\n",
        "from sklearn.metrics import confusion_matrix\n",
        "import seaborn as sns\n",
        "cm = confusion_matrix(test_labels, clustered_training_set)\n",
        "plt.figure(figsize=(10, 10))\n",
        "sns.heatmap(cm, annot=True, fmt=\"d\")\n",
        "plt.title(\"Confusion matrix\", fontsize=30)\n",
        "plt.ylabel('True label', fontsize=25)\n",
        "plt.xlabel('Clustering label', fontsize=25)\n",
        "plt.show()"
      ],
      "execution_count": 12,
      "outputs": [
        {
          "output_type": "display_data",
          "data": {
            "image/png": "[encoded data removed]",
            "text/plain": [
              "<Figure size 720x720 with 2 Axes>"
            ]
          },
          "metadata": {
            "tags": []
          }
        }
      ]
    },
    {
      "cell_type": "code",
      "metadata": {
        "id": "gQ2xvklGPKL2",
        "colab_type": "code",
        "colab": {}
      },
      "source": [
        ""
      ],
      "execution_count": 0,
      "outputs": []
    },
    {
      "cell_type": "code",
      "metadata": {
        "id": "yxulS-D7S7oY",
        "colab_type": "code",
        "colab": {
          "base_uri": "https://localhost:8080/",
          "height": 281
        },
        "outputId": "9fca0d92-61aa-4e82-ea59-35494ce0b18c"
      },
      "source": [
        "#loss function\n",
        "\n",
        "loss=model1.history['loss']\n",
        "val_loss=model1.history['val_loss']\n",
        "epochs=range(20)\n",
        "plt.figure()\n",
        "plt.plot(epochs, loss, label='Training loss')\n",
        "plt.plot(epochs, val_loss, label='Validation loss')\n",
        "plt.title('Training and validation loss')\n",
        "plt.legend()\n",
        "plt.show()\n"
      ],
      "execution_count": 14,
      "outputs": [
        {
          "output_type": "display_data",
          "data": {
            "image/png": "[encoded data removed]",
            "text/plain": [
              "<Figure size 432x288 with 1 Axes>"
            ]
          },
          "metadata": {
            "tags": []
          }
        }
      ]
    },
    {
      "cell_type": "code",
      "metadata": {
        "id": "qFmEEsxOVYyn",
        "colab_type": "code",
        "colab": {
          "base_uri": "https://localhost:8080/",
          "height": 34
        },
        "outputId": "8c38a2d5-7447-4931-ca13-8070569a0477"
      },
      "source": [
        "#accuracy\n",
        "from sklearn import metrics\n",
        "from sklearn.metrics import completeness_score\n",
        "completeness_score(test_labels,clustered_training_set)"
      ],
      "execution_count": 15,
      "outputs": [
        {
          "output_type": "execute_result",
          "data": {
            "text/plain": [
              "0.5754471143930779"
            ]
          },
          "metadata": {
            "tags": []
          },
          "execution_count": 15
        }
      ]
    },
    {
      "cell_type": "code",
      "metadata": {
        "id": "QWcD6QtUc3N3",
        "colab_type": "code",
        "colab": {}
      },
      "source": [
        ""
      ],
      "execution_count": 0,
      "outputs": []
    }
  ]
}