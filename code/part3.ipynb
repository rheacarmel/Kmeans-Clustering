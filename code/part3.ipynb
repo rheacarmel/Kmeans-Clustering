{
  "nbformat": 4,
  "nbformat_minor": 0,
  "metadata": {
    "colab": {
      "name": "kmeans part 3.ipynb",
      "provenance": []
    },
    "kernelspec": {
      "name": "python3",
      "display_name": "Python 3"
    }
  },
  "cells": [
    {
      "cell_type": "markdown",
      "metadata": {
        "id": "ywZHBR-Hqvhf",
        "colab_type": "text"
      },
      "source": [
        "**Gaussian mixture model for unsupervised data**"
      ]
    },
    {
      "cell_type": "code",
      "metadata": {
        "id": "W0NrOPZAqtse",
        "colab_type": "code",
        "colab": {}
      },
      "source": [
        " from sklearn.mixture import GaussianMixture\n",
        " !pip install -q tensorflow"
      ],
      "execution_count": 0,
      "outputs": []
    },
    {
      "cell_type": "code",
      "metadata": {
        "id": "cBrJ8q4xxHA9",
        "colab_type": "code",
        "outputId": "56eb80c3-900a-4e69-9689-ea2f4a62e337",
        "colab": {
          "base_uri": "https://localhost:8080/",
          "height": 81
        }
      },
      "source": [
        "from IPython.display import Image,SVG\n",
        "import matplotlib.pyplot as plt\n",
        "\n",
        "\n",
        "%matplotlib inline\n",
        "\n",
        "import numpy as np \n",
        "import keras\n",
        "from keras.datasets import mnist\n",
        "from keras.models import Model,Sequential\n",
        "from keras.layers  import Input,Dense,Conv2D,MaxPool2D,UpSampling2D,Flatten,Reshape,Dropout\n",
        "from keras import regularizers\n",
        "from keras.layers.normalization import BatchNormalization\n",
        "\n",
        "from keras import backend as K\n",
        "from sklearn.cluster import KMeans\n",
        "\n",
        "\n"
      ],
      "execution_count": 2,
      "outputs": [
        {
          "output_type": "stream",
          "text": [
            "Using TensorFlow backend.\n"
          ],
          "name": "stderr"
        },
        {
          "output_type": "display_data",
          "data": {
            "text/html": [
              "<p style=\"color: red;\">\n",
              "The default version of TensorFlow in Colab will soon switch to TensorFlow 2.x.<br>\n",
              "We recommend you <a href=\"https://www.tensorflow.org/guide/migrate\" target=\"_blank\">upgrade</a> now \n",
              "or ensure your notebook will continue to use TensorFlow 1.x via the <code>%tensorflow_version 1.x</code> magic:\n",
              "<a href=\"https://colab.research.google.com/notebooks/tensorflow_version.ipynb\" target=\"_blank\">more info</a>.</p>\n"
            ],
            "text/plain": [
              "<IPython.core.display.HTML object>"
            ]
          },
          "metadata": {
            "tags": []
          }
        }
      ]
    },
    {
      "cell_type": "code",
      "metadata": {
        "id": "ZrtlVpIg1qdc",
        "colab_type": "code",
        "outputId": "396579d1-2940-4c3e-fda1-662dd3995dd4",
        "colab": {
          "base_uri": "https://localhost:8080/",
          "height": 158
        }
      },
      "source": [
        "fashion_mnist = keras.datasets.fashion_mnist\n",
        "\n",
        "(train_images, train_labels), (test_images, test_labels) = fashion_mnist.load_data()"
      ],
      "execution_count": 3,
      "outputs": [
        {
          "output_type": "stream",
          "text": [
            "Downloading data from http://fashion-mnist.s3-website.eu-central-1.amazonaws.com/train-labels-idx1-ubyte.gz\n",
            "32768/29515 [=================================] - 0s 1us/step\n",
            "Downloading data from http://fashion-mnist.s3-website.eu-central-1.amazonaws.com/train-images-idx3-ubyte.gz\n",
            "26427392/26421880 [==============================] - 0s 0us/step\n",
            "Downloading data from http://fashion-mnist.s3-website.eu-central-1.amazonaws.com/t10k-labels-idx1-ubyte.gz\n",
            "8192/5148 [===============================================] - 0s 0us/step\n",
            "Downloading data from http://fashion-mnist.s3-website.eu-central-1.amazonaws.com/t10k-images-idx3-ubyte.gz\n",
            "4423680/4422102 [==============================] - 0s 0us/step\n"
          ],
          "name": "stdout"
        }
      ]
    },
    {
      "cell_type": "code",
      "metadata": {
        "id": "2JumBLwM17qV",
        "colab_type": "code",
        "colab": {}
      },
      "source": [
        "train_images=train_images/255.0\n",
        "test_images=test_images/255.0"
      ],
      "execution_count": 0,
      "outputs": []
    },
    {
      "cell_type": "code",
      "metadata": {
        "id": "lF8sOepZ2BBx",
        "colab_type": "code",
        "colab": {}
      },
      "source": [
        "\n",
        "\n",
        "train_image=train_images.reshape((60000,28,28,1))\n",
        "test_image=test_images.reshape((10000,28,28,1))"
      ],
      "execution_count": 0,
      "outputs": []
    },
    {
      "cell_type": "code",
      "metadata": {
        "id": "JE6tEg6_2C1K",
        "colab_type": "code",
        "outputId": "017712f3-a64a-4581-987b-52e3278b31f5",
        "colab": {
          "base_uri": "https://localhost:8080/",
          "height": 706
        }
      },
      "source": [
        "#encoder\n",
        "model = Sequential()\n",
        "model.add(Conv2D(14, kernel_size=3, padding='same', activation='sigmoid', input_shape=(28,28,1)))\n",
        "model.add(MaxPool2D((2,2), padding='same'))\n",
        "\n",
        "model.add(Conv2D(7, kernel_size=3, padding='same', activation='sigmoid'))\n",
        "model.add(MaxPool2D((2,2), padding='same'))\n",
        "\n",
        "#decoder\n",
        "model.add(Conv2D(7, kernel_size=3, padding='same', activation='sigmoid'))\n",
        "model.add(UpSampling2D((2,2)))\n",
        "\n",
        "model.add(Conv2D(14, kernel_size=3, padding='same', activation='sigmoid'))\n",
        "model.add(UpSampling2D((2,2)))\n",
        "\n",
        "model.add(Conv2D(1, kernel_size=3, padding='same', activation='sigmoid'))\n",
        "\n",
        "model.compile(optimizer='adam', loss=\"mse\")\n",
        "model.summary()\n",
        "\n"
      ],
      "execution_count": 6,
      "outputs": [
        {
          "output_type": "stream",
          "text": [
            "WARNING:tensorflow:From /usr/local/lib/python3.6/dist-packages/keras/backend/tensorflow_backend.py:66: The name tf.get_default_graph is deprecated. Please use tf.compat.v1.get_default_graph instead.\n",
            "\n",
            "WARNING:tensorflow:From /usr/local/lib/python3.6/dist-packages/keras/backend/tensorflow_backend.py:541: The name tf.placeholder is deprecated. Please use tf.compat.v1.placeholder instead.\n",
            "\n",
            "WARNING:tensorflow:From /usr/local/lib/python3.6/dist-packages/keras/backend/tensorflow_backend.py:4432: The name tf.random_uniform is deprecated. Please use tf.random.uniform instead.\n",
            "\n",
            "WARNING:tensorflow:From /usr/local/lib/python3.6/dist-packages/keras/backend/tensorflow_backend.py:4267: The name tf.nn.max_pool is deprecated. Please use tf.nn.max_pool2d instead.\n",
            "\n",
            "WARNING:tensorflow:From /usr/local/lib/python3.6/dist-packages/keras/backend/tensorflow_backend.py:2239: The name tf.image.resize_nearest_neighbor is deprecated. Please use tf.compat.v1.image.resize_nearest_neighbor instead.\n",
            "\n",
            "WARNING:tensorflow:From /usr/local/lib/python3.6/dist-packages/keras/optimizers.py:793: The name tf.train.Optimizer is deprecated. Please use tf.compat.v1.train.Optimizer instead.\n",
            "\n",
            "Model: \"sequential_1\"\n",
            "_________________________________________________________________\n",
            "Layer (type)                 Output Shape              Param #   \n",
            "=================================================================\n",
            "conv2d_1 (Conv2D)            (None, 28, 28, 14)        140       \n",
            "_________________________________________________________________\n",
            "max_pooling2d_1 (MaxPooling2 (None, 14, 14, 14)        0         \n",
            "_________________________________________________________________\n",
            "conv2d_2 (Conv2D)            (None, 14, 14, 7)         889       \n",
            "_________________________________________________________________\n",
            "max_pooling2d_2 (MaxPooling2 (None, 7, 7, 7)           0         \n",
            "_________________________________________________________________\n",
            "conv2d_3 (Conv2D)            (None, 7, 7, 7)           448       \n",
            "_________________________________________________________________\n",
            "up_sampling2d_1 (UpSampling2 (None, 14, 14, 7)         0         \n",
            "_________________________________________________________________\n",
            "conv2d_4 (Conv2D)            (None, 14, 14, 14)        896       \n",
            "_________________________________________________________________\n",
            "up_sampling2d_2 (UpSampling2 (None, 28, 28, 14)        0         \n",
            "_________________________________________________________________\n",
            "conv2d_5 (Conv2D)            (None, 28, 28, 1)         127       \n",
            "=================================================================\n",
            "Total params: 2,500\n",
            "Trainable params: 2,500\n",
            "Non-trainable params: 0\n",
            "_________________________________________________________________\n"
          ],
          "name": "stdout"
        }
      ]
    },
    {
      "cell_type": "code",
      "metadata": {
        "id": "AWsLKr877GWf",
        "colab_type": "code",
        "outputId": "2ac06dda-cc54-4d09-eec1-0e95cbdbd1c7",
        "colab": {
          "base_uri": "https://localhost:8080/",
          "height": 738
        }
      },
      "source": [
        " model1=model.fit(train_image,train_image,epochs=20,batch_size=64,shuffle=True,validation_data=(test_image,test_image))   #model fitting"
      ],
      "execution_count": 17,
      "outputs": [
        {
          "output_type": "stream",
          "text": [
            "Train on 60000 samples, validate on 10000 samples\n",
            "Epoch 1/20\n",
            "60000/60000 [==============================] - 123s 2ms/step - loss: 0.0132 - val_loss: 0.0130\n",
            "Epoch 2/20\n",
            "60000/60000 [==============================] - 123s 2ms/step - loss: 0.0125 - val_loss: 0.0123\n",
            "Epoch 3/20\n",
            "60000/60000 [==============================] - 128s 2ms/step - loss: 0.0119 - val_loss: 0.0117\n",
            "Epoch 4/20\n",
            "60000/60000 [==============================] - 129s 2ms/step - loss: 0.0113 - val_loss: 0.0112\n",
            "Epoch 5/20\n",
            "60000/60000 [==============================] - 122s 2ms/step - loss: 0.0109 - val_loss: 0.0108\n",
            "Epoch 6/20\n",
            "60000/60000 [==============================] - 123s 2ms/step - loss: 0.0106 - val_loss: 0.0105\n",
            "Epoch 7/20\n",
            "60000/60000 [==============================] - 128s 2ms/step - loss: 0.0103 - val_loss: 0.0103\n",
            "Epoch 8/20\n",
            "60000/60000 [==============================] - 132s 2ms/step - loss: 0.0101 - val_loss: 0.0101\n",
            "Epoch 9/20\n",
            "60000/60000 [==============================] - 120s 2ms/step - loss: 0.0099 - val_loss: 0.0099\n",
            "Epoch 10/20\n",
            "60000/60000 [==============================] - 121s 2ms/step - loss: 0.0097 - val_loss: 0.0097\n",
            "Epoch 11/20\n",
            "60000/60000 [==============================] - 125s 2ms/step - loss: 0.0095 - val_loss: 0.0095\n",
            "Epoch 12/20\n",
            "60000/60000 [==============================] - 124s 2ms/step - loss: 0.0094 - val_loss: 0.0093\n",
            "Epoch 13/20\n",
            "60000/60000 [==============================] - 123s 2ms/step - loss: 0.0092 - val_loss: 0.0092\n",
            "Epoch 14/20\n",
            "60000/60000 [==============================] - 123s 2ms/step - loss: 0.0091 - val_loss: 0.0091\n",
            "Epoch 15/20\n",
            "60000/60000 [==============================] - 124s 2ms/step - loss: 0.0089 - val_loss: 0.0090\n",
            "Epoch 16/20\n",
            "60000/60000 [==============================] - 120s 2ms/step - loss: 0.0088 - val_loss: 0.0088\n",
            "Epoch 17/20\n",
            "60000/60000 [==============================] - 120s 2ms/step - loss: 0.0087 - val_loss: 0.0087\n",
            "Epoch 18/20\n",
            "60000/60000 [==============================] - 120s 2ms/step - loss: 0.0086 - val_loss: 0.0086\n",
            "Epoch 19/20\n",
            "60000/60000 [==============================] - 126s 2ms/step - loss: 0.0085 - val_loss: 0.0084\n",
            "Epoch 20/20\n",
            "60000/60000 [==============================] - 127s 2ms/step - loss: 0.0083 - val_loss: 0.0084\n"
          ],
          "name": "stdout"
        }
      ]
    },
    {
      "cell_type": "code",
      "metadata": {
        "id": "8AeX4Gzt87a2",
        "colab_type": "code",
        "colab": {}
      },
      "source": [
        "restored_testing_dataset=model.predict(test_image)    #pridict using test data"
      ],
      "execution_count": 0,
      "outputs": []
    },
    {
      "cell_type": "code",
      "metadata": {
        "id": "rR6ukdtIEqDn",
        "colab_type": "code",
        "colab": {}
      },
      "source": [
        "encoder = K.function([model.layers[0].input], [model.layers[4].output])"
      ],
      "execution_count": 0,
      "outputs": []
    },
    {
      "cell_type": "code",
      "metadata": {
        "id": "1R_dgPZyN82g",
        "colab_type": "code",
        "colab": {}
      },
      "source": [
        "encoded_images=encoder([test_image])[0].reshape(-1,7*7*7)"
      ],
      "execution_count": 0,
      "outputs": []
    },
    {
      "cell_type": "code",
      "metadata": {
        "id": "CjCXrR9fOWPV",
        "colab_type": "code",
        "colab": {}
      },
      "source": [
        "models = GaussianMixture(10, covariance_type='full', random_state=0)\n",
        "         \n",
        "clustered_training_set=models.fit_predict(encoded_images)                                  "
      ],
      "execution_count": 0,
      "outputs": []
    },
    {
      "cell_type": "code",
      "metadata": {
        "id": "FB3XQKB7Olko",
        "colab_type": "code",
        "outputId": "c243f9bb-1251-4281-c525-8f90a1310b0d",
        "colab": {
          "base_uri": "https://localhost:8080/",
          "height": 648
        }
      },
      "source": [
        "from sklearn.metrics import confusion_matrix\n",
        "import seaborn as sns\n",
        "cm = confusion_matrix(test_labels, clustered_training_set)\n",
        "plt.figure(figsize=(10, 10))\n",
        "sns.heatmap(cm, annot=True, fmt=\"d\")\n",
        "plt.title(\"Confusion matrix\", fontsize=30)\n",
        "plt.ylabel('True label', fontsize=25)\n",
        "plt.xlabel('Clustering label', fontsize=25)\n",
        "plt.show()"
      ],
      "execution_count": 22,
      "outputs": [
        {
          "output_type": "display_data",
          "data": {
            "image/png": "[encoded data removed]",
            "text/plain": [
              "<Figure size 720x720 with 2 Axes>"
            ]
          },
          "metadata": {
            "tags": []
          }
        }
      ]
    },
    {
      "cell_type": "code",
      "metadata": {
        "id": "qFmEEsxOVYyn",
        "colab_type": "code",
        "outputId": "5c1cb83a-c371-4f43-9690-e3a86402b86e",
        "colab": {
          "base_uri": "https://localhost:8080/",
          "height": 34
        }
      },
      "source": [
        "#accuracy\n",
        "from sklearn import metrics\n",
        "from sklearn.metrics import completeness_score\n",
        "completeness_score(test_labels,clustered_training_set)"
      ],
      "execution_count": 24,
      "outputs": [
        {
          "output_type": "execute_result",
          "data": {
            "text/plain": [
              "0.574844941717201"
            ]
          },
          "metadata": {
            "tags": []
          },
          "execution_count": 24
        }
      ]
    }
  ]
}